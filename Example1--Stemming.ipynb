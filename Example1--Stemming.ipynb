{
 "cells": [
  {
   "cell_type": "code",
   "execution_count": 1,
   "metadata": {},
   "outputs": [],
   "source": [
    "from nltk.stem import PorterStemmer, SnowballStemmer, LancasterStemmer\n"
   ]
  },
  {
   "cell_type": "code",
   "execution_count": 2,
   "metadata": {},
   "outputs": [],
   "source": [
    "# Example words\n",
    "words = [\"running\", \"runner\", \"runs\", \"easily\", \"fishing\", \"fished\", \"fisher\"]"
   ]
  },
  {
   "cell_type": "code",
   "execution_count": 3,
   "metadata": {},
   "outputs": [],
   "source": [
    "# Initialize stemmers\n",
    "porter = PorterStemmer()\n",
    "snowball = SnowballStemmer(language='english')\n",
    "lancaster = LancasterStemmer()"
   ]
  },
  {
   "cell_type": "code",
   "execution_count": 4,
   "metadata": {},
   "outputs": [],
   "source": [
    "# Apply stemming\n",
    "porter_stemmed = [porter.stem(word) for word in words]\n",
    "snowball_stemmed = [snowball.stem(word) for word in words]\n",
    "lancaster_stemmed = [lancaster.stem(word) for word in words]\n",
    "\n"
   ]
  },
  {
   "cell_type": "code",
   "execution_count": 5,
   "metadata": {},
   "outputs": [
    {
     "name": "stdout",
     "output_type": "stream",
     "text": [
      "Original words: ['running', 'runner', 'runs', 'easily', 'fishing', 'fished', 'fisher']\n",
      "Porter Stemmer: ['run', 'runner', 'run', 'easili', 'fish', 'fish', 'fisher']\n",
      "Snowball Stemmer: ['run', 'runner', 'run', 'easili', 'fish', 'fish', 'fisher']\n",
      "Lancaster Stemmer: ['run', 'run', 'run', 'easy', 'fish', 'fish', 'fish']\n"
     ]
    }
   ],
   "source": [
    "print(\"Original words:\", words)\n",
    "print(\"Porter Stemmer:\", porter_stemmed)\n",
    "print(\"Snowball Stemmer:\", snowball_stemmed)\n",
    "print(\"Lancaster Stemmer:\", lancaster_stemmed)"
   ]
  }
 ],
 "metadata": {
  "kernelspec": {
   "display_name": "Python 3",
   "language": "python",
   "name": "python3"
  },
  "language_info": {
   "codemirror_mode": {
    "name": "ipython",
    "version": 3
   },
   "file_extension": ".py",
   "mimetype": "text/x-python",
   "name": "python",
   "nbconvert_exporter": "python",
   "pygments_lexer": "ipython3",
   "version": "3.11.0"
  }
 },
 "nbformat": 4,
 "nbformat_minor": 2
}
